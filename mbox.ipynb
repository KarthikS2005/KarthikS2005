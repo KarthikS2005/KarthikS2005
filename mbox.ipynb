{
 "cells": [
  {
   "cell_type": "code",
   "execution_count": 231,
   "id": "4e09619b-a34a-4a7c-adfa-4785ba1accf4",
   "metadata": {},
   "outputs": [],
   "source": [
    "import numpy as np\n",
    "import pandas as pd\n",
    "import matplotlib.pyplot as plt\n",
    "import seaborn as sn"
   ]
  },
  {
   "cell_type": "code",
   "execution_count": 100,
   "id": "ff569ea3-a109-4e4e-8758-3fc3c50efb05",
   "metadata": {},
   "outputs": [
    {
     "data": {
      "text/plain": [
       "<mailbox.mbox at 0x1a6b0de3ad0>"
      ]
     },
     "execution_count": 100,
     "metadata": {},
     "output_type": "execute_result"
    }
   ],
   "source": [
    "import mailbox\n",
    "mboxfile = \"Dark004.mbox\"\n",
    "mbox = mailbox.mbox(mboxfile)\n",
    "mbox"
   ]
  },
  {
   "cell_type": "code",
   "execution_count": 102,
   "id": "f255c1c0-cf07-440b-b597-16256469d8b3",
   "metadata": {},
   "outputs": [
    {
     "name": "stdout",
     "output_type": "stream",
     "text": [
      "X-GM-THRID\n",
      "X-Gmail-Labels\n",
      "Delivered-To\n",
      "Received\n",
      "X-Received\n",
      "ARC-Seal\n",
      "ARC-Message-Signature\n",
      "ARC-Authentication-Results\n",
      "Return-Path\n",
      "Received\n",
      "Received-SPF\n",
      "Authentication-Results\n",
      "DKIM-Signature\n",
      "X-Google-DKIM-Signature\n",
      "X-Gm-Message-State\n",
      "X-Google-Smtp-Source\n",
      "MIME-Version\n",
      "X-Received\n",
      "Message-ID\n",
      "Date\n",
      "Subject\n",
      "From\n",
      "To\n",
      "Content-Type\n"
     ]
    }
   ],
   "source": [
    "for key in mbox[0].keys():\n",
    "    print (key)"
   ]
  },
  {
   "cell_type": "markdown",
   "id": "da0abf35-628a-4461-b7db-6774b28fe438",
   "metadata": {},
   "source": [
    "### data transforamtion\n",
    "#subject, from, date, to, label, and thread. "
   ]
  },
  {
   "cell_type": "markdown",
   "id": "f964b496-0aa8-4159-b965-ddd89cf42faf",
   "metadata": {},
   "source": [
    "dfs.tocs"
   ]
  },
  {
   "cell_type": "code",
   "execution_count": 104,
   "id": "69671630-10a0-447c-8c92-854749001048",
   "metadata": {},
   "outputs": [],
   "source": [
    "import csv\n",
    "with open('mailbox.csv', 'w') as outputfile:\n",
    "    writer = csv.writer(outputfile)\n",
    "    writer.writerow(['subject', 'from', 'date', 'to', 'label', 'thread'])\n",
    "    for message in mbox:\n",
    "        writer.writerow([\n",
    "            message['subject'],\n",
    "            message['from'],\n",
    "            message['date'],\n",
    "            message['to'],\n",
    "            message['X-Gmail-Labels'],\n",
    "            message['X-GM-Third']\n",
    "        ]\n",
    "                       )"
   ]
  },
  {
   "cell_type": "code",
   "execution_count": 105,
   "id": "c6b5cd31-bad6-4ada-9035-e964ead3f106",
   "metadata": {},
   "outputs": [],
   "source": [
    "dfs = pd.read_csv('mailbox.csv', names=['subject', 'from', 'date', 'to',\n",
    "'label', 'thread'])"
   ]
  },
  {
   "cell_type": "code",
   "execution_count": 108,
   "id": "c578bc7b-76f0-46ac-8d54-c79adc30cf23",
   "metadata": {},
   "outputs": [
    {
     "data": {
      "text/plain": [
       "subject    object\n",
       "from       object\n",
       "date       object\n",
       "to         object\n",
       "label      object\n",
       "thread     object\n",
       "dtype: object"
      ]
     },
     "execution_count": 108,
     "metadata": {},
     "output_type": "execute_result"
    }
   ],
   "source": [
    "dfs.dtypes"
   ]
  },
  {
   "cell_type": "code",
   "execution_count": 110,
   "id": "6c643b01-259f-4e4d-9d21-34704d1364e7",
   "metadata": {},
   "outputs": [],
   "source": [
    "dfs['date'] = dfs['date'].apply(lambda x: pd.to_datetime(x, errors='coerce', utc=True))"
   ]
  },
  {
   "cell_type": "code",
   "execution_count": 58,
   "id": "52f6f095-57e0-424e-9e35-898e1560bbd9",
   "metadata": {},
   "outputs": [],
   "source": [
    "#sn.barplot(data='mbox.csv')\n",
    "#plt.show()"
   ]
  },
  {
   "cell_type": "code",
   "execution_count": 120,
   "id": "f445951c-d433-468b-bd5b-afcf02ad6abf",
   "metadata": {},
   "outputs": [
    {
     "data": {
      "text/html": [
       "<div>\n",
       "<style scoped>\n",
       "    .dataframe tbody tr th:only-of-type {\n",
       "        vertical-align: middle;\n",
       "    }\n",
       "\n",
       "    .dataframe tbody tr th {\n",
       "        vertical-align: top;\n",
       "    }\n",
       "\n",
       "    .dataframe thead th {\n",
       "        text-align: right;\n",
       "    }\n",
       "</style>\n",
       "<table border=\"1\" class=\"dataframe\">\n",
       "  <thead>\n",
       "    <tr style=\"text-align: right;\">\n",
       "      <th></th>\n",
       "      <th>subject</th>\n",
       "      <th>from</th>\n",
       "      <th>date</th>\n",
       "      <th>to</th>\n",
       "      <th>label</th>\n",
       "      <th>thread</th>\n",
       "    </tr>\n",
       "  </thead>\n",
       "  <tbody>\n",
       "    <tr>\n",
       "      <th>0</th>\n",
       "      <td>subject</td>\n",
       "      <td>from</td>\n",
       "      <td>NaT</td>\n",
       "      <td>to</td>\n",
       "      <td>label</td>\n",
       "      <td>thread</td>\n",
       "    </tr>\n",
       "    <tr>\n",
       "      <th>1</th>\n",
       "      <td>Your Google data is ready to download</td>\n",
       "      <td>Google Takeout &lt;noreply@google.com&gt;</td>\n",
       "      <td>2025-10-14 03:18:44+00:00</td>\n",
       "      <td>darkgen18@gmail.com</td>\n",
       "      <td>Inbox,Opened,Category Updates</td>\n",
       "      <td>NaN</td>\n",
       "    </tr>\n",
       "    <tr>\n",
       "      <th>2</th>\n",
       "      <td>NaN</td>\n",
       "      <td>dark gen &lt;darkgen18@gmail.com&gt;</td>\n",
       "      <td>2025-10-10 04:00:59+00:00</td>\n",
       "      <td>rohithbs91@gmail.com</td>\n",
       "      <td>Archived,Sent</td>\n",
       "      <td>NaN</td>\n",
       "    </tr>\n",
       "    <tr>\n",
       "      <th>3</th>\n",
       "      <td>Hey dark, welcome to Gemini</td>\n",
       "      <td>Google Gemini &lt;google-gemini-noreply@google.com&gt;</td>\n",
       "      <td>2025-10-12 23:04:01+00:00</td>\n",
       "      <td>darkgen18@gmail.com</td>\n",
       "      <td>Inbox,Opened,Category Updates</td>\n",
       "      <td>NaN</td>\n",
       "    </tr>\n",
       "    <tr>\n",
       "      <th>4</th>\n",
       "      <td>Security alert</td>\n",
       "      <td>Google &lt;no-reply@accounts.google.com&gt;</td>\n",
       "      <td>2025-10-10 03:58:36+00:00</td>\n",
       "      <td>darkgen18@gmail.com</td>\n",
       "      <td>Inbox,Opened,Category Updates</td>\n",
       "      <td>NaN</td>\n",
       "    </tr>\n",
       "    <tr>\n",
       "      <th>5</th>\n",
       "      <td>NaN</td>\n",
       "      <td>\"Suhruth  S\" &lt;25dipcse005@bnmit.in&gt;</td>\n",
       "      <td>2025-10-14 03:35:04+00:00</td>\n",
       "      <td>\"Darkgen18@gmail.com\" &lt;Darkgen18@gmail.com&gt;</td>\n",
       "      <td>Inbox,Opened,Category Personal</td>\n",
       "      <td>NaN</td>\n",
       "    </tr>\n",
       "    <tr>\n",
       "      <th>6</th>\n",
       "      <td>NaN</td>\n",
       "      <td>dark gen &lt;darkgen18@gmail.com&gt;</td>\n",
       "      <td>2025-10-14 03:16:19+00:00</td>\n",
       "      <td>25dipcse002@bnmit.in</td>\n",
       "      <td>Archived,Sent,Opened</td>\n",
       "      <td>NaN</td>\n",
       "    </tr>\n",
       "    <tr>\n",
       "      <th>7</th>\n",
       "      <td>NaN</td>\n",
       "      <td>dark gen &lt;darkgen18@gmail.com&gt;</td>\n",
       "      <td>2025-10-10 03:59:28+00:00</td>\n",
       "      <td>25dipcse002@bnmit.in</td>\n",
       "      <td>Archived,Sent</td>\n",
       "      <td>NaN</td>\n",
       "    </tr>\n",
       "    <tr>\n",
       "      <th>8</th>\n",
       "      <td>Archive of Google data requested</td>\n",
       "      <td>Google &lt;no-reply@accounts.google.com&gt;</td>\n",
       "      <td>2025-10-14 03:37:49+00:00</td>\n",
       "      <td>darkgen18@gmail.com</td>\n",
       "      <td>Inbox,Important,Category Updates,Unread</td>\n",
       "      <td>NaN</td>\n",
       "    </tr>\n",
       "    <tr>\n",
       "      <th>9</th>\n",
       "      <td>Archive of Google data requested</td>\n",
       "      <td>Google &lt;no-reply@accounts.google.com&gt;</td>\n",
       "      <td>2025-10-14 03:18:22+00:00</td>\n",
       "      <td>darkgen18@gmail.com</td>\n",
       "      <td>Inbox,Opened,Category Updates</td>\n",
       "      <td>NaN</td>\n",
       "    </tr>\n",
       "    <tr>\n",
       "      <th>10</th>\n",
       "      <td>NaN</td>\n",
       "      <td>dark gen &lt;darkgen18@gmail.com&gt;</td>\n",
       "      <td>2025-10-14 03:17:08+00:00</td>\n",
       "      <td>25dipcse002@bnmit.in</td>\n",
       "      <td>Archived,Sent</td>\n",
       "      <td>NaN</td>\n",
       "    </tr>\n",
       "    <tr>\n",
       "      <th>11</th>\n",
       "      <td>Delivery Status Notification (Failure)</td>\n",
       "      <td>Mail Delivery Subsystem &lt;mailer-daemon@googlem...</td>\n",
       "      <td>2025-10-10 04:22:27+00:00</td>\n",
       "      <td>darkgen18@gmail.com</td>\n",
       "      <td>Inbox,Opened,Category Updates</td>\n",
       "      <td>NaN</td>\n",
       "    </tr>\n",
       "    <tr>\n",
       "      <th>12</th>\n",
       "      <td>new temporary mail for all for mainly used DA ...</td>\n",
       "      <td>dark gen &lt;darkgen18@gmail.com&gt;</td>\n",
       "      <td>2025-10-10 04:22:17+00:00</td>\n",
       "      <td>\"karthikvish2345@gmail.com\" &lt;karthikvish2345@g...</td>\n",
       "      <td>Archived,Sent,Opened</td>\n",
       "      <td>NaN</td>\n",
       "    </tr>\n",
       "    <tr>\n",
       "      <th>13</th>\n",
       "      <td>hi</td>\n",
       "      <td>\"Karthik  S\" &lt;25dipcse004@bnmit.in&gt;</td>\n",
       "      <td>2025-10-14 03:32:39+00:00</td>\n",
       "      <td>\"darkgen18@gmail.com\" &lt;darkgen18@gmail.com&gt;</td>\n",
       "      <td>Inbox,Important,Opened,Category Personal</td>\n",
       "      <td>NaN</td>\n",
       "    </tr>\n",
       "    <tr>\n",
       "      <th>14</th>\n",
       "      <td>Archive of Google data requested</td>\n",
       "      <td>Google &lt;no-reply@accounts.google.com&gt;</td>\n",
       "      <td>2025-10-10 04:01:21+00:00</td>\n",
       "      <td>darkgen18@gmail.com</td>\n",
       "      <td>Inbox,Opened,Category Updates</td>\n",
       "      <td>NaN</td>\n",
       "    </tr>\n",
       "    <tr>\n",
       "      <th>15</th>\n",
       "      <td>Archive of Google data requested</td>\n",
       "      <td>Google &lt;no-reply@accounts.google.com&gt;</td>\n",
       "      <td>2025-10-10 04:01:30+00:00</td>\n",
       "      <td>darkgen18@gmail.com</td>\n",
       "      <td>Inbox,Opened,Category Updates</td>\n",
       "      <td>NaN</td>\n",
       "    </tr>\n",
       "    <tr>\n",
       "      <th>16</th>\n",
       "      <td>Your Google data is ready to download</td>\n",
       "      <td>Google Takeout &lt;noreply@google.com&gt;</td>\n",
       "      <td>2025-10-10 04:01:43+00:00</td>\n",
       "      <td>darkgen18@gmail.com</td>\n",
       "      <td>Inbox,Opened,Category Personal</td>\n",
       "      <td>NaN</td>\n",
       "    </tr>\n",
       "    <tr>\n",
       "      <th>17</th>\n",
       "      <td>Your Google data is ready to download</td>\n",
       "      <td>Google Takeout &lt;noreply@google.com&gt;</td>\n",
       "      <td>2025-10-10 04:01:27+00:00</td>\n",
       "      <td>darkgen18@gmail.com</td>\n",
       "      <td>Inbox,Opened,Category Updates</td>\n",
       "      <td>NaN</td>\n",
       "    </tr>\n",
       "    <tr>\n",
       "      <th>18</th>\n",
       "      <td>NaN</td>\n",
       "      <td>dark gen &lt;darkgen18@gmail.com&gt;</td>\n",
       "      <td>2025-10-14 03:16:41+00:00</td>\n",
       "      <td>25dipcse002@bnmit.in</td>\n",
       "      <td>Archived,Sent</td>\n",
       "      <td>NaN</td>\n",
       "    </tr>\n",
       "    <tr>\n",
       "      <th>19</th>\n",
       "      <td>BNM</td>\n",
       "      <td>\"Karthik  S\" &lt;25dipcse004@bnmit.in&gt;</td>\n",
       "      <td>2025-10-14 03:35:16+00:00</td>\n",
       "      <td>\"darkgen18@gmail.com\" &lt;darkgen18@gmail.com&gt;</td>\n",
       "      <td>Inbox,Important,Opened,Category Personal</td>\n",
       "      <td>NaN</td>\n",
       "    </tr>\n",
       "    <tr>\n",
       "      <th>20</th>\n",
       "      <td>Delivery Status Notification (Failure)</td>\n",
       "      <td>Mail Delivery Subsystem &lt;mailer-daemon@googlem...</td>\n",
       "      <td>2025-10-10 04:00:09+00:00</td>\n",
       "      <td>darkgen18@gmail.com</td>\n",
       "      <td>Inbox,Opened,Category Updates</td>\n",
       "      <td>NaN</td>\n",
       "    </tr>\n",
       "    <tr>\n",
       "      <th>21</th>\n",
       "      <td>NaN</td>\n",
       "      <td>dark gen &lt;darkgen18@gmail.com&gt;</td>\n",
       "      <td>2025-10-10 03:59:57+00:00</td>\n",
       "      <td>25dip001@bnmit.in</td>\n",
       "      <td>Archived,Sent,Opened</td>\n",
       "      <td>NaN</td>\n",
       "    </tr>\n",
       "    <tr>\n",
       "      <th>22</th>\n",
       "      <td>NaN</td>\n",
       "      <td>dark gen &lt;darkgen18@gmail.com&gt;</td>\n",
       "      <td>2025-10-14 03:17:54+00:00</td>\n",
       "      <td>25dipcse005@bnmit.in</td>\n",
       "      <td>Archived,Sent,Opened</td>\n",
       "      <td>NaN</td>\n",
       "    </tr>\n",
       "    <tr>\n",
       "      <th>23</th>\n",
       "      <td>Delivery Status Notification (Failure)</td>\n",
       "      <td>Mail Delivery Subsystem &lt;mailer-daemon@googlem...</td>\n",
       "      <td>2025-10-14 03:28:14+00:00</td>\n",
       "      <td>darkgen18@gmail.com</td>\n",
       "      <td>Inbox,Important,Opened,Category Updates</td>\n",
       "      <td>NaN</td>\n",
       "    </tr>\n",
       "    <tr>\n",
       "      <th>24</th>\n",
       "      <td>NaN</td>\n",
       "      <td>dark gen &lt;darkgen18@gmail.com&gt;</td>\n",
       "      <td>2025-10-14 03:27:59+00:00</td>\n",
       "      <td>25dip001@bnmit.in</td>\n",
       "      <td>Archived,Sent,Opened</td>\n",
       "      <td>NaN</td>\n",
       "    </tr>\n",
       "    <tr>\n",
       "      <th>25</th>\n",
       "      <td>Fw: text book DA</td>\n",
       "      <td>\"Karthik  S\" &lt;25dipcse004@bnmit.in&gt;</td>\n",
       "      <td>2025-10-14 03:31:40+00:00</td>\n",
       "      <td>\"Darkgen18@gmail.com\" &lt;Darkgen18@gmail.com&gt;</td>\n",
       "      <td>Inbox,Important,Opened,Category Personal</td>\n",
       "      <td>NaN</td>\n",
       "    </tr>\n",
       "  </tbody>\n",
       "</table>\n",
       "</div>"
      ],
      "text/plain": [
       "                                              subject  \\\n",
       "0                                             subject   \n",
       "1               Your Google data is ready to download   \n",
       "2                                                 NaN   \n",
       "3                         Hey dark, welcome to Gemini   \n",
       "4                                      Security alert   \n",
       "5                                                 NaN   \n",
       "6                                                 NaN   \n",
       "7                                                 NaN   \n",
       "8                    Archive of Google data requested   \n",
       "9                    Archive of Google data requested   \n",
       "10                                                NaN   \n",
       "11             Delivery Status Notification (Failure)   \n",
       "12  new temporary mail for all for mainly used DA ...   \n",
       "13                                                 hi   \n",
       "14                   Archive of Google data requested   \n",
       "15                   Archive of Google data requested   \n",
       "16              Your Google data is ready to download   \n",
       "17              Your Google data is ready to download   \n",
       "18                                                NaN   \n",
       "19                                                BNM   \n",
       "20             Delivery Status Notification (Failure)   \n",
       "21                                                NaN   \n",
       "22                                                NaN   \n",
       "23             Delivery Status Notification (Failure)   \n",
       "24                                                NaN   \n",
       "25                                   Fw: text book DA   \n",
       "\n",
       "                                                 from  \\\n",
       "0                                                from   \n",
       "1                 Google Takeout <noreply@google.com>   \n",
       "2                      dark gen <darkgen18@gmail.com>   \n",
       "3    Google Gemini <google-gemini-noreply@google.com>   \n",
       "4               Google <no-reply@accounts.google.com>   \n",
       "5                 \"Suhruth  S\" <25dipcse005@bnmit.in>   \n",
       "6                      dark gen <darkgen18@gmail.com>   \n",
       "7                      dark gen <darkgen18@gmail.com>   \n",
       "8               Google <no-reply@accounts.google.com>   \n",
       "9               Google <no-reply@accounts.google.com>   \n",
       "10                     dark gen <darkgen18@gmail.com>   \n",
       "11  Mail Delivery Subsystem <mailer-daemon@googlem...   \n",
       "12                     dark gen <darkgen18@gmail.com>   \n",
       "13                \"Karthik  S\" <25dipcse004@bnmit.in>   \n",
       "14              Google <no-reply@accounts.google.com>   \n",
       "15              Google <no-reply@accounts.google.com>   \n",
       "16                Google Takeout <noreply@google.com>   \n",
       "17                Google Takeout <noreply@google.com>   \n",
       "18                     dark gen <darkgen18@gmail.com>   \n",
       "19                \"Karthik  S\" <25dipcse004@bnmit.in>   \n",
       "20  Mail Delivery Subsystem <mailer-daemon@googlem...   \n",
       "21                     dark gen <darkgen18@gmail.com>   \n",
       "22                     dark gen <darkgen18@gmail.com>   \n",
       "23  Mail Delivery Subsystem <mailer-daemon@googlem...   \n",
       "24                     dark gen <darkgen18@gmail.com>   \n",
       "25                \"Karthik  S\" <25dipcse004@bnmit.in>   \n",
       "\n",
       "                        date  \\\n",
       "0                        NaT   \n",
       "1  2025-10-14 03:18:44+00:00   \n",
       "2  2025-10-10 04:00:59+00:00   \n",
       "3  2025-10-12 23:04:01+00:00   \n",
       "4  2025-10-10 03:58:36+00:00   \n",
       "5  2025-10-14 03:35:04+00:00   \n",
       "6  2025-10-14 03:16:19+00:00   \n",
       "7  2025-10-10 03:59:28+00:00   \n",
       "8  2025-10-14 03:37:49+00:00   \n",
       "9  2025-10-14 03:18:22+00:00   \n",
       "10 2025-10-14 03:17:08+00:00   \n",
       "11 2025-10-10 04:22:27+00:00   \n",
       "12 2025-10-10 04:22:17+00:00   \n",
       "13 2025-10-14 03:32:39+00:00   \n",
       "14 2025-10-10 04:01:21+00:00   \n",
       "15 2025-10-10 04:01:30+00:00   \n",
       "16 2025-10-10 04:01:43+00:00   \n",
       "17 2025-10-10 04:01:27+00:00   \n",
       "18 2025-10-14 03:16:41+00:00   \n",
       "19 2025-10-14 03:35:16+00:00   \n",
       "20 2025-10-10 04:00:09+00:00   \n",
       "21 2025-10-10 03:59:57+00:00   \n",
       "22 2025-10-14 03:17:54+00:00   \n",
       "23 2025-10-14 03:28:14+00:00   \n",
       "24 2025-10-14 03:27:59+00:00   \n",
       "25 2025-10-14 03:31:40+00:00   \n",
       "\n",
       "                                                   to  \\\n",
       "0                                                  to   \n",
       "1                                 darkgen18@gmail.com   \n",
       "2                                rohithbs91@gmail.com   \n",
       "3                                 darkgen18@gmail.com   \n",
       "4                                 darkgen18@gmail.com   \n",
       "5         \"Darkgen18@gmail.com\" <Darkgen18@gmail.com>   \n",
       "6                                25dipcse002@bnmit.in   \n",
       "7                                25dipcse002@bnmit.in   \n",
       "8                                 darkgen18@gmail.com   \n",
       "9                                 darkgen18@gmail.com   \n",
       "10                               25dipcse002@bnmit.in   \n",
       "11                                darkgen18@gmail.com   \n",
       "12  \"karthikvish2345@gmail.com\" <karthikvish2345@g...   \n",
       "13        \"darkgen18@gmail.com\" <darkgen18@gmail.com>   \n",
       "14                                darkgen18@gmail.com   \n",
       "15                                darkgen18@gmail.com   \n",
       "16                                darkgen18@gmail.com   \n",
       "17                                darkgen18@gmail.com   \n",
       "18                               25dipcse002@bnmit.in   \n",
       "19        \"darkgen18@gmail.com\" <darkgen18@gmail.com>   \n",
       "20                                darkgen18@gmail.com   \n",
       "21                                  25dip001@bnmit.in   \n",
       "22                               25dipcse005@bnmit.in   \n",
       "23                                darkgen18@gmail.com   \n",
       "24                                  25dip001@bnmit.in   \n",
       "25        \"Darkgen18@gmail.com\" <Darkgen18@gmail.com>   \n",
       "\n",
       "                                       label  thread  \n",
       "0                                      label  thread  \n",
       "1              Inbox,Opened,Category Updates     NaN  \n",
       "2                              Archived,Sent     NaN  \n",
       "3              Inbox,Opened,Category Updates     NaN  \n",
       "4              Inbox,Opened,Category Updates     NaN  \n",
       "5             Inbox,Opened,Category Personal     NaN  \n",
       "6                       Archived,Sent,Opened     NaN  \n",
       "7                              Archived,Sent     NaN  \n",
       "8    Inbox,Important,Category Updates,Unread     NaN  \n",
       "9              Inbox,Opened,Category Updates     NaN  \n",
       "10                             Archived,Sent     NaN  \n",
       "11             Inbox,Opened,Category Updates     NaN  \n",
       "12                      Archived,Sent,Opened     NaN  \n",
       "13  Inbox,Important,Opened,Category Personal     NaN  \n",
       "14             Inbox,Opened,Category Updates     NaN  \n",
       "15             Inbox,Opened,Category Updates     NaN  \n",
       "16            Inbox,Opened,Category Personal     NaN  \n",
       "17             Inbox,Opened,Category Updates     NaN  \n",
       "18                             Archived,Sent     NaN  \n",
       "19  Inbox,Important,Opened,Category Personal     NaN  \n",
       "20             Inbox,Opened,Category Updates     NaN  \n",
       "21                      Archived,Sent,Opened     NaN  \n",
       "22                      Archived,Sent,Opened     NaN  \n",
       "23   Inbox,Important,Opened,Category Updates     NaN  \n",
       "24                      Archived,Sent,Opened     NaN  \n",
       "25  Inbox,Important,Opened,Category Personal     NaN  "
      ]
     },
     "execution_count": 120,
     "metadata": {},
     "output_type": "execute_result"
    }
   ],
   "source": [
    "dfs.head(100)"
   ]
  },
  {
   "cell_type": "code",
   "execution_count": 122,
   "id": "decacafc-a16d-4c4e-bbc2-ff422cf0b00e",
   "metadata": {},
   "outputs": [
    {
     "data": {
      "text/plain": [
       "subject                 object\n",
       "from                    object\n",
       "date       datetime64[ns, UTC]\n",
       "to                      object\n",
       "label                   object\n",
       "thread                  object\n",
       "dtype: object"
      ]
     },
     "execution_count": 122,
     "metadata": {},
     "output_type": "execute_result"
    }
   ],
   "source": [
    "dfs.dtypes"
   ]
  },
  {
   "cell_type": "code",
   "execution_count": 124,
   "id": "9acf9b19-7027-4e37-9a0b-9eb46ae93516",
   "metadata": {},
   "outputs": [],
   "source": [
    "dfs['date'] = dfs['date'].apply(lambda x: pd.to_datetime(x, errors='coerce', utc=True))\n"
   ]
  },
  {
   "cell_type": "code",
   "execution_count": 126,
   "id": "2e0f0dd0-37ad-49c0-a863-50158b41d0a4",
   "metadata": {},
   "outputs": [],
   "source": [
    "dfs = dfs[dfs['date'].notna()]"
   ]
  },
  {
   "cell_type": "code",
   "execution_count": 128,
   "id": "7382aa6a-2a89-4bfe-91f6-6ddac628bf82",
   "metadata": {},
   "outputs": [],
   "source": [
    "dfs.to_csv('gmail.csv')"
   ]
  },
  {
   "cell_type": "code",
   "execution_count": 130,
   "id": "ec5ae41f-c891-4caf-b099-150c5decaa87",
   "metadata": {},
   "outputs": [
    {
     "name": "stdout",
     "output_type": "stream",
     "text": [
      "<class 'pandas.core.frame.DataFrame'>\n",
      "Index: 25 entries, 1 to 25\n",
      "Data columns (total 6 columns):\n",
      " #   Column   Non-Null Count  Dtype              \n",
      "---  ------   --------------  -----              \n",
      " 0   subject  16 non-null     object             \n",
      " 1   from     25 non-null     object             \n",
      " 2   date     25 non-null     datetime64[ns, UTC]\n",
      " 3   to       25 non-null     object             \n",
      " 4   label    25 non-null     object             \n",
      " 5   thread   0 non-null      object             \n",
      "dtypes: datetime64[ns, UTC](1), object(5)\n",
      "memory usage: 1.4+ KB\n"
     ]
    }
   ],
   "source": [
    "dfs.info()"
   ]
  },
  {
   "cell_type": "code",
   "execution_count": 132,
   "id": "509f10ed-4ffd-4b47-8e10-7d16f8bc91ad",
   "metadata": {},
   "outputs": [
    {
     "data": {
      "text/html": [
       "<div>\n",
       "<style scoped>\n",
       "    .dataframe tbody tr th:only-of-type {\n",
       "        vertical-align: middle;\n",
       "    }\n",
       "\n",
       "    .dataframe tbody tr th {\n",
       "        vertical-align: top;\n",
       "    }\n",
       "\n",
       "    .dataframe thead th {\n",
       "        text-align: right;\n",
       "    }\n",
       "</style>\n",
       "<table border=\"1\" class=\"dataframe\">\n",
       "  <thead>\n",
       "    <tr style=\"text-align: right;\">\n",
       "      <th></th>\n",
       "      <th>subject</th>\n",
       "      <th>from</th>\n",
       "      <th>date</th>\n",
       "      <th>to</th>\n",
       "      <th>label</th>\n",
       "      <th>thread</th>\n",
       "    </tr>\n",
       "  </thead>\n",
       "  <tbody>\n",
       "    <tr>\n",
       "      <th>1</th>\n",
       "      <td>Your Google data is ready to download</td>\n",
       "      <td>Google Takeout &lt;noreply@google.com&gt;</td>\n",
       "      <td>2025-10-14 03:18:44+00:00</td>\n",
       "      <td>darkgen18@gmail.com</td>\n",
       "      <td>Inbox,Opened,Category Updates</td>\n",
       "      <td>NaN</td>\n",
       "    </tr>\n",
       "    <tr>\n",
       "      <th>2</th>\n",
       "      <td>NaN</td>\n",
       "      <td>dark gen &lt;darkgen18@gmail.com&gt;</td>\n",
       "      <td>2025-10-10 04:00:59+00:00</td>\n",
       "      <td>rohithbs91@gmail.com</td>\n",
       "      <td>Archived,Sent</td>\n",
       "      <td>NaN</td>\n",
       "    </tr>\n",
       "    <tr>\n",
       "      <th>3</th>\n",
       "      <td>Hey dark, welcome to Gemini</td>\n",
       "      <td>Google Gemini &lt;google-gemini-noreply@google.com&gt;</td>\n",
       "      <td>2025-10-12 23:04:01+00:00</td>\n",
       "      <td>darkgen18@gmail.com</td>\n",
       "      <td>Inbox,Opened,Category Updates</td>\n",
       "      <td>NaN</td>\n",
       "    </tr>\n",
       "    <tr>\n",
       "      <th>4</th>\n",
       "      <td>Security alert</td>\n",
       "      <td>Google &lt;no-reply@accounts.google.com&gt;</td>\n",
       "      <td>2025-10-10 03:58:36+00:00</td>\n",
       "      <td>darkgen18@gmail.com</td>\n",
       "      <td>Inbox,Opened,Category Updates</td>\n",
       "      <td>NaN</td>\n",
       "    </tr>\n",
       "    <tr>\n",
       "      <th>5</th>\n",
       "      <td>NaN</td>\n",
       "      <td>\"Suhruth  S\" &lt;25dipcse005@bnmit.in&gt;</td>\n",
       "      <td>2025-10-14 03:35:04+00:00</td>\n",
       "      <td>\"Darkgen18@gmail.com\" &lt;Darkgen18@gmail.com&gt;</td>\n",
       "      <td>Inbox,Opened,Category Personal</td>\n",
       "      <td>NaN</td>\n",
       "    </tr>\n",
       "    <tr>\n",
       "      <th>6</th>\n",
       "      <td>NaN</td>\n",
       "      <td>dark gen &lt;darkgen18@gmail.com&gt;</td>\n",
       "      <td>2025-10-14 03:16:19+00:00</td>\n",
       "      <td>25dipcse002@bnmit.in</td>\n",
       "      <td>Archived,Sent,Opened</td>\n",
       "      <td>NaN</td>\n",
       "    </tr>\n",
       "  </tbody>\n",
       "</table>\n",
       "</div>"
      ],
      "text/plain": [
       "                                 subject  \\\n",
       "1  Your Google data is ready to download   \n",
       "2                                    NaN   \n",
       "3            Hey dark, welcome to Gemini   \n",
       "4                         Security alert   \n",
       "5                                    NaN   \n",
       "6                                    NaN   \n",
       "\n",
       "                                               from                      date  \\\n",
       "1               Google Takeout <noreply@google.com> 2025-10-14 03:18:44+00:00   \n",
       "2                    dark gen <darkgen18@gmail.com> 2025-10-10 04:00:59+00:00   \n",
       "3  Google Gemini <google-gemini-noreply@google.com> 2025-10-12 23:04:01+00:00   \n",
       "4             Google <no-reply@accounts.google.com> 2025-10-10 03:58:36+00:00   \n",
       "5               \"Suhruth  S\" <25dipcse005@bnmit.in> 2025-10-14 03:35:04+00:00   \n",
       "6                    dark gen <darkgen18@gmail.com> 2025-10-14 03:16:19+00:00   \n",
       "\n",
       "                                            to  \\\n",
       "1                          darkgen18@gmail.com   \n",
       "2                         rohithbs91@gmail.com   \n",
       "3                          darkgen18@gmail.com   \n",
       "4                          darkgen18@gmail.com   \n",
       "5  \"Darkgen18@gmail.com\" <Darkgen18@gmail.com>   \n",
       "6                         25dipcse002@bnmit.in   \n",
       "\n",
       "                            label thread  \n",
       "1   Inbox,Opened,Category Updates    NaN  \n",
       "2                   Archived,Sent    NaN  \n",
       "3   Inbox,Opened,Category Updates    NaN  \n",
       "4   Inbox,Opened,Category Updates    NaN  \n",
       "5  Inbox,Opened,Category Personal    NaN  \n",
       "6            Archived,Sent,Opened    NaN  "
      ]
     },
     "execution_count": 132,
     "metadata": {},
     "output_type": "execute_result"
    }
   ],
   "source": [
    "dfs.head(6)"
   ]
  },
  {
   "cell_type": "code",
   "execution_count": 134,
   "id": "3d6da16c-50da-43d6-8324-3f1d5b27150b",
   "metadata": {},
   "outputs": [
    {
     "name": "stdout",
     "output_type": "stream",
     "text": [
      "1      3\n",
      "2      4\n",
      "3     23\n",
      "4      3\n",
      "5      3\n",
      "6      3\n",
      "7      3\n",
      "8      3\n",
      "9      3\n",
      "10     3\n",
      "11     4\n",
      "12     4\n",
      "13     3\n",
      "14     4\n",
      "15     4\n",
      "16     4\n",
      "17     4\n",
      "18     3\n",
      "19     3\n",
      "20     4\n",
      "21     3\n",
      "22     3\n",
      "23     3\n",
      "24     3\n",
      "25     3\n",
      "Name: timeofday, dtype: int64\n"
     ]
    }
   ],
   "source": [
    "dfs['timeofday']=dfs['date'].apply(lambda x: x.hour)\n",
    "print(dfs['timeofday'])"
   ]
  },
  {
   "cell_type": "code",
   "execution_count": 136,
   "id": "b8796f42-2b4e-4203-b5c1-f8e475d8820f",
   "metadata": {},
   "outputs": [
    {
     "name": "stdout",
     "output_type": "stream",
     "text": [
      "1      3\n",
      "2      4\n",
      "3     23\n",
      "4      3\n",
      "5      3\n",
      "6      3\n",
      "7      3\n",
      "8      3\n",
      "9      3\n",
      "10     3\n",
      "11     4\n",
      "12     4\n",
      "13     3\n",
      "14     4\n",
      "15     4\n",
      "16     4\n",
      "17     4\n",
      "18     3\n",
      "19     3\n",
      "20     4\n",
      "21     3\n",
      "22     3\n",
      "23     3\n",
      "24     3\n",
      "25     3\n",
      "Name: hour, dtype: int64\n"
     ]
    }
   ],
   "source": [
    "dfs['hour']=dfs['date'].apply(lambda x: x.hour)\n",
    "print(dfs['hour'])"
   ]
  },
  {
   "cell_type": "code",
   "execution_count": 138,
   "id": "f8a6426a-01a3-43ea-9eb4-72c1b9395b83",
   "metadata": {},
   "outputs": [
    {
     "name": "stdout",
     "output_type": "stream",
     "text": [
      "1     2025\n",
      "2     2025\n",
      "3     2025\n",
      "4     2025\n",
      "5     2025\n",
      "6     2025\n",
      "7     2025\n",
      "8     2025\n",
      "9     2025\n",
      "10    2025\n",
      "11    2025\n",
      "12    2025\n",
      "13    2025\n",
      "14    2025\n",
      "15    2025\n",
      "16    2025\n",
      "17    2025\n",
      "18    2025\n",
      "19    2025\n",
      "20    2025\n",
      "21    2025\n",
      "22    2025\n",
      "23    2025\n",
      "24    2025\n",
      "25    2025\n",
      "Name: year_int, dtype: int64\n"
     ]
    }
   ],
   "source": [
    "dfs['year_int']=dfs['date'].apply(lambda x:x.year)\n",
    "print(dfs['year_int'])"
   ]
  },
  {
   "cell_type": "code",
   "execution_count": 82,
   "id": "3da5e0f9-735e-4e9f-aecc-f1af70c6b907",
   "metadata": {},
   "outputs": [
    {
     "name": "stdout",
     "output_type": "stream",
     "text": [
      "1   2025-10-10 04:00:59+00:00\n",
      "2   2025-10-10 03:58:36+00:00\n",
      "3   2025-10-10 04:00:09+00:00\n",
      "4   2025-10-10 03:59:57+00:00\n",
      "5   2025-10-10 03:59:28+00:00\n",
      "6   2025-10-10 04:01:27+00:00\n",
      "Name: date, dtype: datetime64[ns, UTC]\n"
     ]
    }
   ],
   "source": [
    "print(dfs['date'])\n",
    "dfs.index=dfs['date']\n"
   ]
  },
  {
   "cell_type": "code",
   "execution_count": 84,
   "id": "71cd8611-be13-49f1-8e6c-f94abc96d959",
   "metadata": {},
   "outputs": [
    {
     "name": "stdout",
     "output_type": "stream",
     "text": [
      "Fri, 10 Oct 2025 03:58 AM\n",
      "Fri, 10 Oct 2025 04:01 AM\n",
      "label\n",
      "Archived,Sent                    3\n",
      "Inbox,Category Updates,Unread    3\n",
      "Name: count, dtype: int64\n"
     ]
    }
   ],
   "source": [
    "print(dfs.index.min().strftime('%a, %d %b %Y %I:%M %p'))\n",
    "print(dfs.index.max().strftime('%a, %d %b %Y %I:%M %p'))\n",
    "print(dfs['label'].value_counts())"
   ]
  },
  {
   "cell_type": "code",
   "execution_count": 86,
   "id": "19dd1009-a1c4-4aaf-8dee-ef07c40a6ee1",
   "metadata": {},
   "outputs": [
    {
     "name": "stdout",
     "output_type": "stream",
     "text": [
      "date\n",
      "2025-10-10 04:00:59+00:00                    Archived,Sent\n",
      "2025-10-10 03:58:36+00:00    Inbox,Category Updates,Unread\n",
      "2025-10-10 04:00:09+00:00    Inbox,Category Updates,Unread\n",
      "2025-10-10 03:59:57+00:00                    Archived,Sent\n",
      "2025-10-10 03:59:28+00:00                    Archived,Sent\n",
      "2025-10-10 04:01:27+00:00    Inbox,Category Updates,Unread\n",
      "Name: label, dtype: object\n"
     ]
    },
    {
     "data": {
      "text/plain": [
       "'print(sent)'"
      ]
     },
     "execution_count": 86,
     "metadata": {},
     "output_type": "execute_result"
    }
   ],
   "source": [
    "print(dfs['label'])\n",
    "sent=dfs[dfs['label']=='sent']\n",
    "'''print(sent)'''"
   ]
  },
  {
   "cell_type": "code",
   "execution_count": 88,
   "id": "f348c789-e7d2-4f8e-b3be-89b51e9c5dc9",
   "metadata": {},
   "outputs": [],
   "source": [
    "import pytz\n",
    "import datetime\n",
    "\n",
    "def plot_todo_vs_year(df, ax, color='CO', s=0.5, title=''):\n",
    "    ind=np.zeros(len(df), dtype='bool')\n",
    "    est=pytz.timezone('US/Eastern')\n",
    "    df[~ind].plot.scatter('year_int', 'timeofday', s=s, alpha=0.6, ax=ax,color=color)\n",
    "    ax.set_ylim(0,24)\n",
    "    ax.yaxis.set_major_locator(MaxNLocator(8))\n",
    "    ax.set_yticklabels([datetime.datetime.strptime(str(int(np.mod(ts,24))), \"%H\").strftime(\"%I %p\")\n",
    "                    for ts in ax.get_yticks()\n",
    "                   ]);\n",
    "    ax.set_xlabel('')\n",
    "    ax.set_ylabel('')\n",
    "    ax.set_title(title)\n",
    "    ax.grid(ls=':',color='k')\n",
    "    return ax"
   ]
  },
  {
   "cell_type": "code",
   "execution_count": 94,
   "id": "f165dc87-951e-4eeb-8e2f-720dec572bdd",
   "metadata": {},
   "outputs": [
    {
     "ename": "ValueError",
     "evalue": "'c' argument must be a color, a sequence of colors, or a sequence of numbers, not ['CO']",
     "output_type": "error",
     "traceback": [
      "\u001b[1;31m---------------------------------------------------------------------------\u001b[0m",
      "\u001b[1;31mValueError\u001b[0m                                Traceback (most recent call last)",
      "File \u001b[1;32m~\\anaconda3\\Lib\\site-packages\\matplotlib\\axes\\_axes.py:4618\u001b[0m, in \u001b[0;36mAxes._parse_scatter_color_args\u001b[1;34m(c, edgecolors, kwargs, xsize, get_next_color_func)\u001b[0m\n\u001b[0;32m   4617\u001b[0m \u001b[38;5;28;01mtry\u001b[39;00m:  \u001b[38;5;66;03m# Is 'c' acceptable as PathCollection facecolors?\u001b[39;00m\n\u001b[1;32m-> 4618\u001b[0m     colors \u001b[38;5;241m=\u001b[39m mcolors\u001b[38;5;241m.\u001b[39mto_rgba_array(c)\n\u001b[0;32m   4619\u001b[0m \u001b[38;5;28;01mexcept\u001b[39;00m (\u001b[38;5;167;01mTypeError\u001b[39;00m, \u001b[38;5;167;01mValueError\u001b[39;00m) \u001b[38;5;28;01mas\u001b[39;00m err:\n",
      "File \u001b[1;32m~\\anaconda3\\Lib\\site-packages\\matplotlib\\colors.py:510\u001b[0m, in \u001b[0;36mto_rgba_array\u001b[1;34m(c, alpha)\u001b[0m\n\u001b[0;32m    509\u001b[0m     \u001b[38;5;28;01melse\u001b[39;00m:\n\u001b[1;32m--> 510\u001b[0m         rgba \u001b[38;5;241m=\u001b[39m np\u001b[38;5;241m.\u001b[39marray([to_rgba(cc) \u001b[38;5;28;01mfor\u001b[39;00m cc \u001b[38;5;129;01min\u001b[39;00m c])\n\u001b[0;32m    511\u001b[0m \u001b[38;5;28;01melse\u001b[39;00m:\n",
      "File \u001b[1;32m~\\anaconda3\\Lib\\site-packages\\matplotlib\\colors.py:314\u001b[0m, in \u001b[0;36mto_rgba\u001b[1;34m(c, alpha)\u001b[0m\n\u001b[0;32m    313\u001b[0m \u001b[38;5;28;01mif\u001b[39;00m rgba \u001b[38;5;129;01mis\u001b[39;00m \u001b[38;5;28;01mNone\u001b[39;00m:  \u001b[38;5;66;03m# Suppress exception chaining of cache lookup failure.\u001b[39;00m\n\u001b[1;32m--> 314\u001b[0m     rgba \u001b[38;5;241m=\u001b[39m _to_rgba_no_colorcycle(c, alpha)\n\u001b[0;32m    315\u001b[0m     \u001b[38;5;28;01mtry\u001b[39;00m:\n",
      "File \u001b[1;32m~\\anaconda3\\Lib\\site-packages\\matplotlib\\colors.py:391\u001b[0m, in \u001b[0;36m_to_rgba_no_colorcycle\u001b[1;34m(c, alpha)\u001b[0m\n\u001b[0;32m    390\u001b[0m         \u001b[38;5;28;01mreturn\u001b[39;00m c, c, c, alpha \u001b[38;5;28;01mif\u001b[39;00m alpha \u001b[38;5;129;01mis\u001b[39;00m \u001b[38;5;129;01mnot\u001b[39;00m \u001b[38;5;28;01mNone\u001b[39;00m \u001b[38;5;28;01melse\u001b[39;00m \u001b[38;5;241m1.\u001b[39m\n\u001b[1;32m--> 391\u001b[0m     \u001b[38;5;28;01mraise\u001b[39;00m \u001b[38;5;167;01mValueError\u001b[39;00m(\u001b[38;5;124mf\u001b[39m\u001b[38;5;124m\"\u001b[39m\u001b[38;5;124mInvalid RGBA argument: \u001b[39m\u001b[38;5;132;01m{\u001b[39;00morig_c\u001b[38;5;132;01m!r}\u001b[39;00m\u001b[38;5;124m\"\u001b[39m)\n\u001b[0;32m    392\u001b[0m \u001b[38;5;66;03m# turn 2-D array into 1-D array\u001b[39;00m\n",
      "\u001b[1;31mValueError\u001b[0m: Invalid RGBA argument: 'CO'",
      "\nThe above exception was the direct cause of the following exception:\n",
      "\u001b[1;31mValueError\u001b[0m                                Traceback (most recent call last)",
      "Cell \u001b[1;32mIn[94], line 2\u001b[0m\n\u001b[0;32m      1\u001b[0m flg, ax\u001b[38;5;241m=\u001b[39m plt\u001b[38;5;241m.\u001b[39msubplots(nrows\u001b[38;5;241m=\u001b[39m\u001b[38;5;241m1\u001b[39m,ncols\u001b[38;5;241m=\u001b[39m\u001b[38;5;241m2\u001b[39m,figsize\u001b[38;5;241m=\u001b[39m(\u001b[38;5;241m12\u001b[39m,\u001b[38;5;241m4\u001b[39m))\n\u001b[1;32m----> 2\u001b[0m plot_todo_vs_year(sent,ax[\u001b[38;5;241m0\u001b[39m],title\u001b[38;5;241m=\u001b[39m\u001b[38;5;124m'\u001b[39m\u001b[38;5;124mSent\u001b[39m\u001b[38;5;124m'\u001b[39m)\n\u001b[0;32m      3\u001b[0m plot_todo_vs_year(sent,ax[\u001b[38;5;241m0\u001b[39m],title\u001b[38;5;241m=\u001b[39m\u001b[38;5;124m'\u001b[39m\u001b[38;5;124mReceived\u001b[39m\u001b[38;5;124m'\u001b[39m)\n",
      "Cell \u001b[1;32mIn[88], line 6\u001b[0m, in \u001b[0;36mplot_todo_vs_year\u001b[1;34m(df, ax, color, s, title)\u001b[0m\n\u001b[0;32m      4\u001b[0m ind\u001b[38;5;241m=\u001b[39mnp\u001b[38;5;241m.\u001b[39mzeros(\u001b[38;5;28mlen\u001b[39m(df), dtype\u001b[38;5;241m=\u001b[39m\u001b[38;5;124m'\u001b[39m\u001b[38;5;124mbool\u001b[39m\u001b[38;5;124m'\u001b[39m)\n\u001b[0;32m      5\u001b[0m est\u001b[38;5;241m=\u001b[39mpytz\u001b[38;5;241m.\u001b[39mtimezone(\u001b[38;5;124m'\u001b[39m\u001b[38;5;124mUS/Eastern\u001b[39m\u001b[38;5;124m'\u001b[39m)\n\u001b[1;32m----> 6\u001b[0m df[\u001b[38;5;241m~\u001b[39mind]\u001b[38;5;241m.\u001b[39mplot\u001b[38;5;241m.\u001b[39mscatter(\u001b[38;5;124m'\u001b[39m\u001b[38;5;124myear_int\u001b[39m\u001b[38;5;124m'\u001b[39m, \u001b[38;5;124m'\u001b[39m\u001b[38;5;124mtimeofday\u001b[39m\u001b[38;5;124m'\u001b[39m, s\u001b[38;5;241m=\u001b[39ms, alpha\u001b[38;5;241m=\u001b[39m\u001b[38;5;241m0.6\u001b[39m, ax\u001b[38;5;241m=\u001b[39max,color\u001b[38;5;241m=\u001b[39mcolor)\n\u001b[0;32m      7\u001b[0m ax\u001b[38;5;241m.\u001b[39mset_ylim(\u001b[38;5;241m0\u001b[39m,\u001b[38;5;241m24\u001b[39m)\n\u001b[0;32m      8\u001b[0m ax\u001b[38;5;241m.\u001b[39myaxis\u001b[38;5;241m.\u001b[39mset_major_locator(MaxNLocator(\u001b[38;5;241m8\u001b[39m))\n",
      "File \u001b[1;32m~\\anaconda3\\Lib\\site-packages\\pandas\\plotting\\_core.py:1748\u001b[0m, in \u001b[0;36mPlotAccessor.scatter\u001b[1;34m(self, x, y, s, c, **kwargs)\u001b[0m\n\u001b[0;32m   1660\u001b[0m \u001b[38;5;28;01mdef\u001b[39;00m \u001b[38;5;21mscatter\u001b[39m(\n\u001b[0;32m   1661\u001b[0m     \u001b[38;5;28mself\u001b[39m,\n\u001b[0;32m   1662\u001b[0m     x: Hashable,\n\u001b[1;32m   (...)\u001b[0m\n\u001b[0;32m   1666\u001b[0m     \u001b[38;5;241m*\u001b[39m\u001b[38;5;241m*\u001b[39mkwargs,\n\u001b[0;32m   1667\u001b[0m ) \u001b[38;5;241m-\u001b[39m\u001b[38;5;241m>\u001b[39m PlotAccessor:\n\u001b[0;32m   1668\u001b[0m \u001b[38;5;250m    \u001b[39m\u001b[38;5;124;03m\"\"\"\u001b[39;00m\n\u001b[0;32m   1669\u001b[0m \u001b[38;5;124;03m    Create a scatter plot with varying marker point size and color.\u001b[39;00m\n\u001b[0;32m   1670\u001b[0m \n\u001b[1;32m   (...)\u001b[0m\n\u001b[0;32m   1746\u001b[0m \u001b[38;5;124;03m        ...                       colormap='viridis')\u001b[39;00m\n\u001b[0;32m   1747\u001b[0m \u001b[38;5;124;03m    \"\"\"\u001b[39;00m\n\u001b[1;32m-> 1748\u001b[0m     \u001b[38;5;28;01mreturn\u001b[39;00m \u001b[38;5;28mself\u001b[39m(kind\u001b[38;5;241m=\u001b[39m\u001b[38;5;124m\"\u001b[39m\u001b[38;5;124mscatter\u001b[39m\u001b[38;5;124m\"\u001b[39m, x\u001b[38;5;241m=\u001b[39mx, y\u001b[38;5;241m=\u001b[39my, s\u001b[38;5;241m=\u001b[39ms, c\u001b[38;5;241m=\u001b[39mc, \u001b[38;5;241m*\u001b[39m\u001b[38;5;241m*\u001b[39mkwargs)\n",
      "File \u001b[1;32m~\\anaconda3\\Lib\\site-packages\\pandas\\plotting\\_core.py:975\u001b[0m, in \u001b[0;36mPlotAccessor.__call__\u001b[1;34m(self, *args, **kwargs)\u001b[0m\n\u001b[0;32m    973\u001b[0m \u001b[38;5;28;01mif\u001b[39;00m kind \u001b[38;5;129;01min\u001b[39;00m \u001b[38;5;28mself\u001b[39m\u001b[38;5;241m.\u001b[39m_dataframe_kinds:\n\u001b[0;32m    974\u001b[0m     \u001b[38;5;28;01mif\u001b[39;00m \u001b[38;5;28misinstance\u001b[39m(data, ABCDataFrame):\n\u001b[1;32m--> 975\u001b[0m         \u001b[38;5;28;01mreturn\u001b[39;00m plot_backend\u001b[38;5;241m.\u001b[39mplot(data, x\u001b[38;5;241m=\u001b[39mx, y\u001b[38;5;241m=\u001b[39my, kind\u001b[38;5;241m=\u001b[39mkind, \u001b[38;5;241m*\u001b[39m\u001b[38;5;241m*\u001b[39mkwargs)\n\u001b[0;32m    976\u001b[0m     \u001b[38;5;28;01melse\u001b[39;00m:\n\u001b[0;32m    977\u001b[0m         \u001b[38;5;28;01mraise\u001b[39;00m \u001b[38;5;167;01mValueError\u001b[39;00m(\u001b[38;5;124mf\u001b[39m\u001b[38;5;124m\"\u001b[39m\u001b[38;5;124mplot kind \u001b[39m\u001b[38;5;132;01m{\u001b[39;00mkind\u001b[38;5;132;01m}\u001b[39;00m\u001b[38;5;124m can only be used for data frames\u001b[39m\u001b[38;5;124m\"\u001b[39m)\n",
      "File \u001b[1;32m~\\anaconda3\\Lib\\site-packages\\pandas\\plotting\\_matplotlib\\__init__.py:71\u001b[0m, in \u001b[0;36mplot\u001b[1;34m(data, kind, **kwargs)\u001b[0m\n\u001b[0;32m     69\u001b[0m         kwargs[\u001b[38;5;124m\"\u001b[39m\u001b[38;5;124max\u001b[39m\u001b[38;5;124m\"\u001b[39m] \u001b[38;5;241m=\u001b[39m \u001b[38;5;28mgetattr\u001b[39m(ax, \u001b[38;5;124m\"\u001b[39m\u001b[38;5;124mleft_ax\u001b[39m\u001b[38;5;124m\"\u001b[39m, ax)\n\u001b[0;32m     70\u001b[0m plot_obj \u001b[38;5;241m=\u001b[39m PLOT_CLASSES[kind](data, \u001b[38;5;241m*\u001b[39m\u001b[38;5;241m*\u001b[39mkwargs)\n\u001b[1;32m---> 71\u001b[0m plot_obj\u001b[38;5;241m.\u001b[39mgenerate()\n\u001b[0;32m     72\u001b[0m plot_obj\u001b[38;5;241m.\u001b[39mdraw()\n\u001b[0;32m     73\u001b[0m \u001b[38;5;28;01mreturn\u001b[39;00m plot_obj\u001b[38;5;241m.\u001b[39mresult\n",
      "File \u001b[1;32m~\\anaconda3\\Lib\\site-packages\\pandas\\plotting\\_matplotlib\\core.py:501\u001b[0m, in \u001b[0;36mMPLPlot.generate\u001b[1;34m(self)\u001b[0m\n\u001b[0;32m    499\u001b[0m \u001b[38;5;28mself\u001b[39m\u001b[38;5;241m.\u001b[39m_compute_plot_data()\n\u001b[0;32m    500\u001b[0m fig \u001b[38;5;241m=\u001b[39m \u001b[38;5;28mself\u001b[39m\u001b[38;5;241m.\u001b[39mfig\n\u001b[1;32m--> 501\u001b[0m \u001b[38;5;28mself\u001b[39m\u001b[38;5;241m.\u001b[39m_make_plot(fig)\n\u001b[0;32m    502\u001b[0m \u001b[38;5;28mself\u001b[39m\u001b[38;5;241m.\u001b[39m_add_table()\n\u001b[0;32m    503\u001b[0m \u001b[38;5;28mself\u001b[39m\u001b[38;5;241m.\u001b[39m_make_legend()\n",
      "File \u001b[1;32m~\\anaconda3\\Lib\\site-packages\\pandas\\plotting\\_matplotlib\\core.py:1345\u001b[0m, in \u001b[0;36mScatterPlot._make_plot\u001b[1;34m(self, fig)\u001b[0m\n\u001b[0;32m   1343\u001b[0m \u001b[38;5;28;01melse\u001b[39;00m:\n\u001b[0;32m   1344\u001b[0m     label \u001b[38;5;241m=\u001b[39m \u001b[38;5;28;01mNone\u001b[39;00m\n\u001b[1;32m-> 1345\u001b[0m scatter \u001b[38;5;241m=\u001b[39m ax\u001b[38;5;241m.\u001b[39mscatter(\n\u001b[0;32m   1346\u001b[0m     data[x]\u001b[38;5;241m.\u001b[39mvalues,\n\u001b[0;32m   1347\u001b[0m     data[y]\u001b[38;5;241m.\u001b[39mvalues,\n\u001b[0;32m   1348\u001b[0m     c\u001b[38;5;241m=\u001b[39mc_values,\n\u001b[0;32m   1349\u001b[0m     label\u001b[38;5;241m=\u001b[39mlabel,\n\u001b[0;32m   1350\u001b[0m     cmap\u001b[38;5;241m=\u001b[39mcmap,\n\u001b[0;32m   1351\u001b[0m     norm\u001b[38;5;241m=\u001b[39mnorm,\n\u001b[0;32m   1352\u001b[0m     s\u001b[38;5;241m=\u001b[39m\u001b[38;5;28mself\u001b[39m\u001b[38;5;241m.\u001b[39ms,\n\u001b[0;32m   1353\u001b[0m     \u001b[38;5;241m*\u001b[39m\u001b[38;5;241m*\u001b[39m\u001b[38;5;28mself\u001b[39m\u001b[38;5;241m.\u001b[39mkwds,\n\u001b[0;32m   1354\u001b[0m )\n\u001b[0;32m   1355\u001b[0m \u001b[38;5;28;01mif\u001b[39;00m cb:\n\u001b[0;32m   1356\u001b[0m     cbar_label \u001b[38;5;241m=\u001b[39m c \u001b[38;5;28;01mif\u001b[39;00m c_is_column \u001b[38;5;28;01melse\u001b[39;00m \u001b[38;5;124m\"\u001b[39m\u001b[38;5;124m\"\u001b[39m\n",
      "File \u001b[1;32m~\\anaconda3\\Lib\\site-packages\\matplotlib\\__init__.py:1473\u001b[0m, in \u001b[0;36m_preprocess_data.<locals>.inner\u001b[1;34m(ax, data, *args, **kwargs)\u001b[0m\n\u001b[0;32m   1470\u001b[0m \u001b[38;5;129m@functools\u001b[39m\u001b[38;5;241m.\u001b[39mwraps(func)\n\u001b[0;32m   1471\u001b[0m \u001b[38;5;28;01mdef\u001b[39;00m \u001b[38;5;21minner\u001b[39m(ax, \u001b[38;5;241m*\u001b[39margs, data\u001b[38;5;241m=\u001b[39m\u001b[38;5;28;01mNone\u001b[39;00m, \u001b[38;5;241m*\u001b[39m\u001b[38;5;241m*\u001b[39mkwargs):\n\u001b[0;32m   1472\u001b[0m     \u001b[38;5;28;01mif\u001b[39;00m data \u001b[38;5;129;01mis\u001b[39;00m \u001b[38;5;28;01mNone\u001b[39;00m:\n\u001b[1;32m-> 1473\u001b[0m         \u001b[38;5;28;01mreturn\u001b[39;00m func(\n\u001b[0;32m   1474\u001b[0m             ax,\n\u001b[0;32m   1475\u001b[0m             \u001b[38;5;241m*\u001b[39m\u001b[38;5;28mmap\u001b[39m(sanitize_sequence, args),\n\u001b[0;32m   1476\u001b[0m             \u001b[38;5;241m*\u001b[39m\u001b[38;5;241m*\u001b[39m{k: sanitize_sequence(v) \u001b[38;5;28;01mfor\u001b[39;00m k, v \u001b[38;5;129;01min\u001b[39;00m kwargs\u001b[38;5;241m.\u001b[39mitems()})\n\u001b[0;32m   1478\u001b[0m     bound \u001b[38;5;241m=\u001b[39m new_sig\u001b[38;5;241m.\u001b[39mbind(ax, \u001b[38;5;241m*\u001b[39margs, \u001b[38;5;241m*\u001b[39m\u001b[38;5;241m*\u001b[39mkwargs)\n\u001b[0;32m   1479\u001b[0m     auto_label \u001b[38;5;241m=\u001b[39m (bound\u001b[38;5;241m.\u001b[39marguments\u001b[38;5;241m.\u001b[39mget(label_namer)\n\u001b[0;32m   1480\u001b[0m                   \u001b[38;5;129;01mor\u001b[39;00m bound\u001b[38;5;241m.\u001b[39mkwargs\u001b[38;5;241m.\u001b[39mget(label_namer))\n",
      "File \u001b[1;32m~\\anaconda3\\Lib\\site-packages\\matplotlib\\axes\\_axes.py:4805\u001b[0m, in \u001b[0;36mAxes.scatter\u001b[1;34m(self, x, y, s, c, marker, cmap, norm, vmin, vmax, alpha, linewidths, edgecolors, plotnonfinite, **kwargs)\u001b[0m\n\u001b[0;32m   4802\u001b[0m \u001b[38;5;28;01mif\u001b[39;00m edgecolors \u001b[38;5;129;01mis\u001b[39;00m \u001b[38;5;28;01mNone\u001b[39;00m:\n\u001b[0;32m   4803\u001b[0m     orig_edgecolor \u001b[38;5;241m=\u001b[39m kwargs\u001b[38;5;241m.\u001b[39mget(\u001b[38;5;124m'\u001b[39m\u001b[38;5;124medgecolor\u001b[39m\u001b[38;5;124m'\u001b[39m, \u001b[38;5;28;01mNone\u001b[39;00m)\n\u001b[0;32m   4804\u001b[0m c, colors, edgecolors \u001b[38;5;241m=\u001b[39m \\\n\u001b[1;32m-> 4805\u001b[0m     \u001b[38;5;28mself\u001b[39m\u001b[38;5;241m.\u001b[39m_parse_scatter_color_args(\n\u001b[0;32m   4806\u001b[0m         c, edgecolors, kwargs, x\u001b[38;5;241m.\u001b[39msize,\n\u001b[0;32m   4807\u001b[0m         get_next_color_func\u001b[38;5;241m=\u001b[39m\u001b[38;5;28mself\u001b[39m\u001b[38;5;241m.\u001b[39m_get_patches_for_fill\u001b[38;5;241m.\u001b[39mget_next_color)\n\u001b[0;32m   4809\u001b[0m \u001b[38;5;28;01mif\u001b[39;00m plotnonfinite \u001b[38;5;129;01mand\u001b[39;00m colors \u001b[38;5;129;01mis\u001b[39;00m \u001b[38;5;28;01mNone\u001b[39;00m:\n\u001b[0;32m   4810\u001b[0m     c \u001b[38;5;241m=\u001b[39m np\u001b[38;5;241m.\u001b[39mma\u001b[38;5;241m.\u001b[39mmasked_invalid(c)\n",
      "File \u001b[1;32m~\\anaconda3\\Lib\\site-packages\\matplotlib\\axes\\_axes.py:4627\u001b[0m, in \u001b[0;36mAxes._parse_scatter_color_args\u001b[1;34m(c, edgecolors, kwargs, xsize, get_next_color_func)\u001b[0m\n\u001b[0;32m   4624\u001b[0m             \u001b[38;5;28;01mraise\u001b[39;00m invalid_shape_exception(c\u001b[38;5;241m.\u001b[39msize, xsize) \u001b[38;5;28;01mfrom\u001b[39;00m \u001b[38;5;21;01merr\u001b[39;00m\n\u001b[0;32m   4625\u001b[0m         \u001b[38;5;66;03m# Both the mapping *and* the RGBA conversion failed: pretty\u001b[39;00m\n\u001b[0;32m   4626\u001b[0m         \u001b[38;5;66;03m# severe failure => one may appreciate a verbose feedback.\u001b[39;00m\n\u001b[1;32m-> 4627\u001b[0m         \u001b[38;5;28;01mraise\u001b[39;00m \u001b[38;5;167;01mValueError\u001b[39;00m(\n\u001b[0;32m   4628\u001b[0m             \u001b[38;5;124mf\u001b[39m\u001b[38;5;124m\"\u001b[39m\u001b[38;5;124m'\u001b[39m\u001b[38;5;124mc\u001b[39m\u001b[38;5;124m'\u001b[39m\u001b[38;5;124m argument must be a color, a sequence of colors, \u001b[39m\u001b[38;5;124m\"\u001b[39m\n\u001b[0;32m   4629\u001b[0m             \u001b[38;5;124mf\u001b[39m\u001b[38;5;124m\"\u001b[39m\u001b[38;5;124mor a sequence of numbers, not \u001b[39m\u001b[38;5;132;01m{\u001b[39;00mc\u001b[38;5;132;01m!r}\u001b[39;00m\u001b[38;5;124m\"\u001b[39m) \u001b[38;5;28;01mfrom\u001b[39;00m \u001b[38;5;21;01merr\u001b[39;00m\n\u001b[0;32m   4630\u001b[0m \u001b[38;5;28;01melse\u001b[39;00m:\n\u001b[0;32m   4631\u001b[0m     \u001b[38;5;28;01mif\u001b[39;00m \u001b[38;5;28mlen\u001b[39m(colors) \u001b[38;5;129;01mnot\u001b[39;00m \u001b[38;5;129;01min\u001b[39;00m (\u001b[38;5;241m0\u001b[39m, \u001b[38;5;241m1\u001b[39m, xsize):\n\u001b[0;32m   4632\u001b[0m         \u001b[38;5;66;03m# NB: remember that a single color is also acceptable.\u001b[39;00m\n\u001b[0;32m   4633\u001b[0m         \u001b[38;5;66;03m# Besides *colors* will be an empty array if c == 'none'.\u001b[39;00m\n",
      "\u001b[1;31mValueError\u001b[0m: 'c' argument must be a color, a sequence of colors, or a sequence of numbers, not ['CO']"
     ]
    },
    {
     "data": {
      "image/png": "[encoded data removed]",
      "text/plain": [
       "<Figure size 1200x400 with 2 Axes>"
      ]
     },
     "metadata": {},
     "output_type": "display_data"
    }
   ],
   "source": [
    "flg, ax= plt.subplots(nrows=1,ncols=2,figsize=(12,4))\n",
    "plot_todo_vs_year(sent,ax[0],title='Sent')\n",
    "plot_todo_vs_year(sent,ax[0],title='Received')"
   ]
  },
  {
   "cell_type": "code",
   "execution_count": 176,
   "id": "ca12bd0a-39ac-4891-8599-3823318ec85b",
   "metadata": {},
   "outputs": [
    {
     "data": {
      "text/plain": [
       "Index(['subject', 'from', 'date', 'label', 'thread', 'timeofday', 'hour',\n",
       "       'year_int'],\n",
       "      dtype='object')"
      ]
     },
     "execution_count": 176,
     "metadata": {},
     "output_type": "execute_result"
    }
   ],
   "source": [
    "\n",
    "dfs.columns"
   ]
  },
  {
   "cell_type": "code",
   "execution_count": 142,
   "id": "ea6c46e7-6b08-4c25-ad10-0ae9594558c7",
   "metadata": {},
   "outputs": [],
   "source": [
    "\n",
    "import re\n",
    "\n",
    "def extract_email_ID(string):\n",
    "  email = re.findall(r'<(.+?)>', string)\n",
    "  if not email:\n",
    "    email = list(filter(lambda y: '@' in y, string.split()))\n",
    "  return email[0] if email else np.nan\n",
    "     "
   ]
  },
  {
   "cell_type": "code",
   "execution_count": 144,
   "id": "2a25ab83-ba30-4f46-80cb-fe715dc5fa5c",
   "metadata": {},
   "outputs": [],
   "source": [
    "dfs['from'] = dfs['from'].apply(lambda x: extract_email_ID(x))\n",
    "     "
   ]
  },
  {
   "cell_type": "code",
   "execution_count": 185,
   "id": "f3ee0527-a65d-4ac5-b472-de8857886beb",
   "metadata": {},
   "outputs": [],
   "source": [
    "myemail = '25dipcse002@gmail.com'\n",
    "dfs['label'] = dfs['from'].apply(lambda x: 'sent' if x==myemail else 'inbox')"
   ]
  },
  {
   "cell_type": "code",
   "execution_count": 187,
   "id": "441823bc-7b51-4594-819d-32a3d2dfdbd3",
   "metadata": {},
   "outputs": [
    {
     "ename": "KeyError",
     "evalue": "\"['to'] not found in axis\"",
     "output_type": "error",
     "traceback": [
      "\u001b[1;31m---------------------------------------------------------------------------\u001b[0m",
      "\u001b[1;31mKeyError\u001b[0m                                  Traceback (most recent call last)",
      "Cell \u001b[1;32mIn[187], line 1\u001b[0m\n\u001b[1;32m----> 1\u001b[0m dfs\u001b[38;5;241m.\u001b[39mdrop(columns\u001b[38;5;241m=\u001b[39m\u001b[38;5;124m'\u001b[39m\u001b[38;5;124mto\u001b[39m\u001b[38;5;124m'\u001b[39m, inplace\u001b[38;5;241m=\u001b[39m\u001b[38;5;28;01mTrue\u001b[39;00m)\n",
      "File \u001b[1;32m~\\anaconda3\\Lib\\site-packages\\pandas\\core\\frame.py:5581\u001b[0m, in \u001b[0;36mDataFrame.drop\u001b[1;34m(self, labels, axis, index, columns, level, inplace, errors)\u001b[0m\n\u001b[0;32m   5433\u001b[0m \u001b[38;5;28;01mdef\u001b[39;00m \u001b[38;5;21mdrop\u001b[39m(\n\u001b[0;32m   5434\u001b[0m     \u001b[38;5;28mself\u001b[39m,\n\u001b[0;32m   5435\u001b[0m     labels: IndexLabel \u001b[38;5;241m|\u001b[39m \u001b[38;5;28;01mNone\u001b[39;00m \u001b[38;5;241m=\u001b[39m \u001b[38;5;28;01mNone\u001b[39;00m,\n\u001b[1;32m   (...)\u001b[0m\n\u001b[0;32m   5442\u001b[0m     errors: IgnoreRaise \u001b[38;5;241m=\u001b[39m \u001b[38;5;124m\"\u001b[39m\u001b[38;5;124mraise\u001b[39m\u001b[38;5;124m\"\u001b[39m,\n\u001b[0;32m   5443\u001b[0m ) \u001b[38;5;241m-\u001b[39m\u001b[38;5;241m>\u001b[39m DataFrame \u001b[38;5;241m|\u001b[39m \u001b[38;5;28;01mNone\u001b[39;00m:\n\u001b[0;32m   5444\u001b[0m \u001b[38;5;250m    \u001b[39m\u001b[38;5;124;03m\"\"\"\u001b[39;00m\n\u001b[0;32m   5445\u001b[0m \u001b[38;5;124;03m    Drop specified labels from rows or columns.\u001b[39;00m\n\u001b[0;32m   5446\u001b[0m \n\u001b[1;32m   (...)\u001b[0m\n\u001b[0;32m   5579\u001b[0m \u001b[38;5;124;03m            weight  1.0     0.8\u001b[39;00m\n\u001b[0;32m   5580\u001b[0m \u001b[38;5;124;03m    \"\"\"\u001b[39;00m\n\u001b[1;32m-> 5581\u001b[0m     \u001b[38;5;28;01mreturn\u001b[39;00m \u001b[38;5;28msuper\u001b[39m()\u001b[38;5;241m.\u001b[39mdrop(\n\u001b[0;32m   5582\u001b[0m         labels\u001b[38;5;241m=\u001b[39mlabels,\n\u001b[0;32m   5583\u001b[0m         axis\u001b[38;5;241m=\u001b[39maxis,\n\u001b[0;32m   5584\u001b[0m         index\u001b[38;5;241m=\u001b[39mindex,\n\u001b[0;32m   5585\u001b[0m         columns\u001b[38;5;241m=\u001b[39mcolumns,\n\u001b[0;32m   5586\u001b[0m         level\u001b[38;5;241m=\u001b[39mlevel,\n\u001b[0;32m   5587\u001b[0m         inplace\u001b[38;5;241m=\u001b[39minplace,\n\u001b[0;32m   5588\u001b[0m         errors\u001b[38;5;241m=\u001b[39merrors,\n\u001b[0;32m   5589\u001b[0m     )\n",
      "File \u001b[1;32m~\\anaconda3\\Lib\\site-packages\\pandas\\core\\generic.py:4788\u001b[0m, in \u001b[0;36mNDFrame.drop\u001b[1;34m(self, labels, axis, index, columns, level, inplace, errors)\u001b[0m\n\u001b[0;32m   4786\u001b[0m \u001b[38;5;28;01mfor\u001b[39;00m axis, labels \u001b[38;5;129;01min\u001b[39;00m axes\u001b[38;5;241m.\u001b[39mitems():\n\u001b[0;32m   4787\u001b[0m     \u001b[38;5;28;01mif\u001b[39;00m labels \u001b[38;5;129;01mis\u001b[39;00m \u001b[38;5;129;01mnot\u001b[39;00m \u001b[38;5;28;01mNone\u001b[39;00m:\n\u001b[1;32m-> 4788\u001b[0m         obj \u001b[38;5;241m=\u001b[39m obj\u001b[38;5;241m.\u001b[39m_drop_axis(labels, axis, level\u001b[38;5;241m=\u001b[39mlevel, errors\u001b[38;5;241m=\u001b[39merrors)\n\u001b[0;32m   4790\u001b[0m \u001b[38;5;28;01mif\u001b[39;00m inplace:\n\u001b[0;32m   4791\u001b[0m     \u001b[38;5;28mself\u001b[39m\u001b[38;5;241m.\u001b[39m_update_inplace(obj)\n",
      "File \u001b[1;32m~\\anaconda3\\Lib\\site-packages\\pandas\\core\\generic.py:4830\u001b[0m, in \u001b[0;36mNDFrame._drop_axis\u001b[1;34m(self, labels, axis, level, errors, only_slice)\u001b[0m\n\u001b[0;32m   4828\u001b[0m         new_axis \u001b[38;5;241m=\u001b[39m axis\u001b[38;5;241m.\u001b[39mdrop(labels, level\u001b[38;5;241m=\u001b[39mlevel, errors\u001b[38;5;241m=\u001b[39merrors)\n\u001b[0;32m   4829\u001b[0m     \u001b[38;5;28;01melse\u001b[39;00m:\n\u001b[1;32m-> 4830\u001b[0m         new_axis \u001b[38;5;241m=\u001b[39m axis\u001b[38;5;241m.\u001b[39mdrop(labels, errors\u001b[38;5;241m=\u001b[39merrors)\n\u001b[0;32m   4831\u001b[0m     indexer \u001b[38;5;241m=\u001b[39m axis\u001b[38;5;241m.\u001b[39mget_indexer(new_axis)\n\u001b[0;32m   4833\u001b[0m \u001b[38;5;66;03m# Case for non-unique axis\u001b[39;00m\n\u001b[0;32m   4834\u001b[0m \u001b[38;5;28;01melse\u001b[39;00m:\n",
      "File \u001b[1;32m~\\anaconda3\\Lib\\site-packages\\pandas\\core\\indexes\\base.py:7070\u001b[0m, in \u001b[0;36mIndex.drop\u001b[1;34m(self, labels, errors)\u001b[0m\n\u001b[0;32m   7068\u001b[0m \u001b[38;5;28;01mif\u001b[39;00m mask\u001b[38;5;241m.\u001b[39many():\n\u001b[0;32m   7069\u001b[0m     \u001b[38;5;28;01mif\u001b[39;00m errors \u001b[38;5;241m!=\u001b[39m \u001b[38;5;124m\"\u001b[39m\u001b[38;5;124mignore\u001b[39m\u001b[38;5;124m\"\u001b[39m:\n\u001b[1;32m-> 7070\u001b[0m         \u001b[38;5;28;01mraise\u001b[39;00m \u001b[38;5;167;01mKeyError\u001b[39;00m(\u001b[38;5;124mf\u001b[39m\u001b[38;5;124m\"\u001b[39m\u001b[38;5;132;01m{\u001b[39;00mlabels[mask]\u001b[38;5;241m.\u001b[39mtolist()\u001b[38;5;132;01m}\u001b[39;00m\u001b[38;5;124m not found in axis\u001b[39m\u001b[38;5;124m\"\u001b[39m)\n\u001b[0;32m   7071\u001b[0m     indexer \u001b[38;5;241m=\u001b[39m indexer[\u001b[38;5;241m~\u001b[39mmask]\n\u001b[0;32m   7072\u001b[0m \u001b[38;5;28;01mreturn\u001b[39;00m \u001b[38;5;28mself\u001b[39m\u001b[38;5;241m.\u001b[39mdelete(indexer)\n",
      "\u001b[1;31mKeyError\u001b[0m: \"['to'] not found in axis\""
     ]
    }
   ],
   "source": [
    "dfs.drop(columns='to', inplace=True)"
   ]
  },
  {
   "cell_type": "code",
   "execution_count": 189,
   "id": "c2e656d6-8790-425d-8e44-a75bd8948035",
   "metadata": {},
   "outputs": [
    {
     "data": {
      "text/html": [
       "<div>\n",
       "<style scoped>\n",
       "    .dataframe tbody tr th:only-of-type {\n",
       "        vertical-align: middle;\n",
       "    }\n",
       "\n",
       "    .dataframe tbody tr th {\n",
       "        vertical-align: top;\n",
       "    }\n",
       "\n",
       "    .dataframe thead th {\n",
       "        text-align: right;\n",
       "    }\n",
       "</style>\n",
       "<table border=\"1\" class=\"dataframe\">\n",
       "  <thead>\n",
       "    <tr style=\"text-align: right;\">\n",
       "      <th></th>\n",
       "      <th>subject</th>\n",
       "      <th>from</th>\n",
       "      <th>date</th>\n",
       "      <th>label</th>\n",
       "      <th>thread</th>\n",
       "      <th>timeofday</th>\n",
       "      <th>hour</th>\n",
       "      <th>year_int</th>\n",
       "    </tr>\n",
       "  </thead>\n",
       "  <tbody>\n",
       "    <tr>\n",
       "      <th>1</th>\n",
       "      <td>Your Google data is ready to download</td>\n",
       "      <td>noreply@google.com</td>\n",
       "      <td>2025-10-14 08:48:44+05:30</td>\n",
       "      <td>inbox</td>\n",
       "      <td>NaN</td>\n",
       "      <td>8.812222</td>\n",
       "      <td>8</td>\n",
       "      <td>2025</td>\n",
       "    </tr>\n",
       "    <tr>\n",
       "      <th>2</th>\n",
       "      <td>NaN</td>\n",
       "      <td>darkgen18@gmail.com</td>\n",
       "      <td>2025-10-10 09:30:59+05:30</td>\n",
       "      <td>inbox</td>\n",
       "      <td>NaN</td>\n",
       "      <td>9.516389</td>\n",
       "      <td>9</td>\n",
       "      <td>2025</td>\n",
       "    </tr>\n",
       "    <tr>\n",
       "      <th>3</th>\n",
       "      <td>Hey dark, welcome to Gemini</td>\n",
       "      <td>google-gemini-noreply@google.com</td>\n",
       "      <td>2025-10-13 04:34:01+05:30</td>\n",
       "      <td>inbox</td>\n",
       "      <td>NaN</td>\n",
       "      <td>4.566944</td>\n",
       "      <td>4</td>\n",
       "      <td>2025</td>\n",
       "    </tr>\n",
       "    <tr>\n",
       "      <th>4</th>\n",
       "      <td>Security alert</td>\n",
       "      <td>no-reply@accounts.google.com</td>\n",
       "      <td>2025-10-10 09:28:36+05:30</td>\n",
       "      <td>inbox</td>\n",
       "      <td>NaN</td>\n",
       "      <td>9.476667</td>\n",
       "      <td>9</td>\n",
       "      <td>2025</td>\n",
       "    </tr>\n",
       "    <tr>\n",
       "      <th>5</th>\n",
       "      <td>NaN</td>\n",
       "      <td>25dipcse005@bnmit.in</td>\n",
       "      <td>2025-10-14 09:05:04+05:30</td>\n",
       "      <td>inbox</td>\n",
       "      <td>NaN</td>\n",
       "      <td>9.084444</td>\n",
       "      <td>9</td>\n",
       "      <td>2025</td>\n",
       "    </tr>\n",
       "    <tr>\n",
       "      <th>6</th>\n",
       "      <td>NaN</td>\n",
       "      <td>darkgen18@gmail.com</td>\n",
       "      <td>2025-10-14 08:46:19+05:30</td>\n",
       "      <td>inbox</td>\n",
       "      <td>NaN</td>\n",
       "      <td>8.771944</td>\n",
       "      <td>8</td>\n",
       "      <td>2025</td>\n",
       "    </tr>\n",
       "    <tr>\n",
       "      <th>7</th>\n",
       "      <td>NaN</td>\n",
       "      <td>darkgen18@gmail.com</td>\n",
       "      <td>2025-10-10 09:29:28+05:30</td>\n",
       "      <td>inbox</td>\n",
       "      <td>NaN</td>\n",
       "      <td>9.491111</td>\n",
       "      <td>9</td>\n",
       "      <td>2025</td>\n",
       "    </tr>\n",
       "    <tr>\n",
       "      <th>8</th>\n",
       "      <td>Archive of Google data requested</td>\n",
       "      <td>no-reply@accounts.google.com</td>\n",
       "      <td>2025-10-14 09:07:49+05:30</td>\n",
       "      <td>inbox</td>\n",
       "      <td>NaN</td>\n",
       "      <td>9.130278</td>\n",
       "      <td>9</td>\n",
       "      <td>2025</td>\n",
       "    </tr>\n",
       "    <tr>\n",
       "      <th>9</th>\n",
       "      <td>Archive of Google data requested</td>\n",
       "      <td>no-reply@accounts.google.com</td>\n",
       "      <td>2025-10-14 08:48:22+05:30</td>\n",
       "      <td>inbox</td>\n",
       "      <td>NaN</td>\n",
       "      <td>8.806111</td>\n",
       "      <td>8</td>\n",
       "      <td>2025</td>\n",
       "    </tr>\n",
       "    <tr>\n",
       "      <th>10</th>\n",
       "      <td>NaN</td>\n",
       "      <td>darkgen18@gmail.com</td>\n",
       "      <td>2025-10-14 08:47:08+05:30</td>\n",
       "      <td>inbox</td>\n",
       "      <td>NaN</td>\n",
       "      <td>8.785556</td>\n",
       "      <td>8</td>\n",
       "      <td>2025</td>\n",
       "    </tr>\n",
       "  </tbody>\n",
       "</table>\n",
       "</div>"
      ],
      "text/plain": [
       "                                  subject                              from  \\\n",
       "1   Your Google data is ready to download                noreply@google.com   \n",
       "2                                     NaN               darkgen18@gmail.com   \n",
       "3             Hey dark, welcome to Gemini  google-gemini-noreply@google.com   \n",
       "4                          Security alert      no-reply@accounts.google.com   \n",
       "5                                     NaN              25dipcse005@bnmit.in   \n",
       "6                                     NaN               darkgen18@gmail.com   \n",
       "7                                     NaN               darkgen18@gmail.com   \n",
       "8        Archive of Google data requested      no-reply@accounts.google.com   \n",
       "9        Archive of Google data requested      no-reply@accounts.google.com   \n",
       "10                                    NaN               darkgen18@gmail.com   \n",
       "\n",
       "                        date  label thread  timeofday  hour  year_int  \n",
       "1  2025-10-14 08:48:44+05:30  inbox    NaN   8.812222     8      2025  \n",
       "2  2025-10-10 09:30:59+05:30  inbox    NaN   9.516389     9      2025  \n",
       "3  2025-10-13 04:34:01+05:30  inbox    NaN   4.566944     4      2025  \n",
       "4  2025-10-10 09:28:36+05:30  inbox    NaN   9.476667     9      2025  \n",
       "5  2025-10-14 09:05:04+05:30  inbox    NaN   9.084444     9      2025  \n",
       "6  2025-10-14 08:46:19+05:30  inbox    NaN   8.771944     8      2025  \n",
       "7  2025-10-10 09:29:28+05:30  inbox    NaN   9.491111     9      2025  \n",
       "8  2025-10-14 09:07:49+05:30  inbox    NaN   9.130278     9      2025  \n",
       "9  2025-10-14 08:48:22+05:30  inbox    NaN   8.806111     8      2025  \n",
       "10 2025-10-14 08:47:08+05:30  inbox    NaN   8.785556     8      2025  "
      ]
     },
     "execution_count": 189,
     "metadata": {},
     "output_type": "execute_result"
    }
   ],
   "source": [
    "\n",
    "dfs.head(10)\n",
    "     "
   ]
  },
  {
   "cell_type": "code",
   "execution_count": 191,
   "id": "45e07029-c81f-4a28-8af4-afae44b17170",
   "metadata": {},
   "outputs": [],
   "source": [
    "import datetime \n",
    "import pytz\n",
    "\n",
    "def refactor_timezone(x):\n",
    "  est = pytz.timezone('Asia/kolkata')\n",
    "  return x.astimezone(est)"
   ]
  },
  {
   "cell_type": "code",
   "execution_count": 193,
   "id": "d468e1c7-10d0-4d5d-bc87-2a8ff12cb01c",
   "metadata": {},
   "outputs": [],
   "source": [
    "dfs['date'] = dfs['date'].apply(lambda x: refactor_timezone(x))"
   ]
  },
  {
   "cell_type": "code",
   "execution_count": 225,
   "id": "deb65605-f900-4019-937d-babea303bfc1",
   "metadata": {},
   "outputs": [],
   "source": [
    "dfs['dayofweek'] = dfs['date'].dt.day_name()\n",
    "dfs['dayofweek'] = pd.Categorical(dfs['dayofweek'], categories=['Monday', 'Tuesday', 'Wednesday', 'Thursday', 'Friday','Saturday', 'Sunday'], ordered=True)"
   ]
  },
  {
   "cell_type": "code",
   "execution_count": 227,
   "id": "5e0a0de2-5d3a-4a6c-98e0-3de5fe590117",
   "metadata": {},
   "outputs": [
    {
     "data": {
      "text/plain": [
       "1     Tuesday\n",
       "2      Friday\n",
       "3      Monday\n",
       "4      Friday\n",
       "5     Tuesday\n",
       "6     Tuesday\n",
       "7      Friday\n",
       "8     Tuesday\n",
       "9     Tuesday\n",
       "10    Tuesday\n",
       "11     Friday\n",
       "12     Friday\n",
       "13    Tuesday\n",
       "14     Friday\n",
       "15     Friday\n",
       "16     Friday\n",
       "17     Friday\n",
       "18    Tuesday\n",
       "19    Tuesday\n",
       "20     Friday\n",
       "21     Friday\n",
       "22    Tuesday\n",
       "23    Tuesday\n",
       "24    Tuesday\n",
       "25    Tuesday\n",
       "Name: dayofweek, dtype: category\n",
       "Categories (7, object): ['Monday' < 'Tuesday' < 'Wednesday' < 'Thursday' < 'Friday' < 'Saturday' < 'Sunday']"
      ]
     },
     "execution_count": 227,
     "metadata": {},
     "output_type": "execute_result"
    }
   ],
   "source": [
    "dfs['dayofweek']"
   ]
  },
  {
   "cell_type": "code",
   "execution_count": 166,
   "id": "f067186a-9b76-4ec3-b7ec-00ab6c475c81",
   "metadata": {},
   "outputs": [],
   "source": [
    "dfs['timeofday'] = dfs['date'].apply(lambda x: x.hour + x.minute/60 + x.second/3600)"
   ]
  },
  {
   "cell_type": "code",
   "execution_count": 168,
   "id": "d5f3a982-89e0-4016-93a9-e20254ff43e5",
   "metadata": {},
   "outputs": [],
   "source": [
    "dfs['hour'] = dfs['date'].apply(lambda x: x.hour)"
   ]
  },
  {
   "cell_type": "code",
   "execution_count": 172,
   "id": "5c45f7fc-ca64-41df-80e8-b7a01ab85b3a",
   "metadata": {},
   "outputs": [
    {
     "data": {
      "text/html": [
       "<div>\n",
       "<style scoped>\n",
       "    .dataframe tbody tr th:only-of-type {\n",
       "        vertical-align: middle;\n",
       "    }\n",
       "\n",
       "    .dataframe tbody tr th {\n",
       "        vertical-align: top;\n",
       "    }\n",
       "\n",
       "    .dataframe thead th {\n",
       "        text-align: right;\n",
       "    }\n",
       "</style>\n",
       "<table border=\"1\" class=\"dataframe\">\n",
       "  <thead>\n",
       "    <tr style=\"text-align: right;\">\n",
       "      <th></th>\n",
       "      <th>subject</th>\n",
       "      <th>from</th>\n",
       "      <th>date</th>\n",
       "      <th>label</th>\n",
       "      <th>thread</th>\n",
       "      <th>timeofday</th>\n",
       "      <th>hour</th>\n",
       "      <th>year_int</th>\n",
       "    </tr>\n",
       "  </thead>\n",
       "  <tbody>\n",
       "    <tr>\n",
       "      <th>1</th>\n",
       "      <td>Your Google data is ready to download</td>\n",
       "      <td>noreply@google.com</td>\n",
       "      <td>2025-10-14 08:48:44+05:30</td>\n",
       "      <td>inbox</td>\n",
       "      <td>NaN</td>\n",
       "      <td>8.812222</td>\n",
       "      <td>8</td>\n",
       "      <td>2025</td>\n",
       "    </tr>\n",
       "    <tr>\n",
       "      <th>2</th>\n",
       "      <td>NaN</td>\n",
       "      <td>darkgen18@gmail.com</td>\n",
       "      <td>2025-10-10 09:30:59+05:30</td>\n",
       "      <td>inbox</td>\n",
       "      <td>NaN</td>\n",
       "      <td>9.516389</td>\n",
       "      <td>9</td>\n",
       "      <td>2025</td>\n",
       "    </tr>\n",
       "    <tr>\n",
       "      <th>3</th>\n",
       "      <td>Hey dark, welcome to Gemini</td>\n",
       "      <td>google-gemini-noreply@google.com</td>\n",
       "      <td>2025-10-13 04:34:01+05:30</td>\n",
       "      <td>inbox</td>\n",
       "      <td>NaN</td>\n",
       "      <td>4.566944</td>\n",
       "      <td>4</td>\n",
       "      <td>2025</td>\n",
       "    </tr>\n",
       "    <tr>\n",
       "      <th>4</th>\n",
       "      <td>Security alert</td>\n",
       "      <td>no-reply@accounts.google.com</td>\n",
       "      <td>2025-10-10 09:28:36+05:30</td>\n",
       "      <td>inbox</td>\n",
       "      <td>NaN</td>\n",
       "      <td>9.476667</td>\n",
       "      <td>9</td>\n",
       "      <td>2025</td>\n",
       "    </tr>\n",
       "    <tr>\n",
       "      <th>5</th>\n",
       "      <td>NaN</td>\n",
       "      <td>25dipcse005@bnmit.in</td>\n",
       "      <td>2025-10-14 09:05:04+05:30</td>\n",
       "      <td>inbox</td>\n",
       "      <td>NaN</td>\n",
       "      <td>9.084444</td>\n",
       "      <td>9</td>\n",
       "      <td>2025</td>\n",
       "    </tr>\n",
       "  </tbody>\n",
       "</table>\n",
       "</div>"
      ],
      "text/plain": [
       "                                 subject                              from  \\\n",
       "1  Your Google data is ready to download                noreply@google.com   \n",
       "2                                    NaN               darkgen18@gmail.com   \n",
       "3            Hey dark, welcome to Gemini  google-gemini-noreply@google.com   \n",
       "4                         Security alert      no-reply@accounts.google.com   \n",
       "5                                    NaN              25dipcse005@bnmit.in   \n",
       "\n",
       "                       date  label thread  timeofday  hour  year_int  \n",
       "1 2025-10-14 08:48:44+05:30  inbox    NaN   8.812222     8      2025  \n",
       "2 2025-10-10 09:30:59+05:30  inbox    NaN   9.516389     9      2025  \n",
       "3 2025-10-13 04:34:01+05:30  inbox    NaN   4.566944     4      2025  \n",
       "4 2025-10-10 09:28:36+05:30  inbox    NaN   9.476667     9      2025  \n",
       "5 2025-10-14 09:05:04+05:30  inbox    NaN   9.084444     9      2025  "
      ]
     },
     "execution_count": 172,
     "metadata": {},
     "output_type": "execute_result"
    }
   ],
   "source": [
    "dfs.head()"
   ]
  },
  {
   "cell_type": "code",
   "execution_count": 203,
   "id": "32daa43e-07e2-4d61-b467-fbce4267d54b",
   "metadata": {},
   "outputs": [],
   "source": [
    "dfs['date_only'] = dfs['date'].dt.date"
   ]
  },
  {
   "cell_type": "code",
   "execution_count": 215,
   "id": "f56e7c98-5094-4a2a-b052-151c6673d544",
   "metadata": {},
   "outputs": [
    {
     "name": "stdout",
     "output_type": "stream",
     "text": [
      "average Emails per day: 8.333333333333334\n"
     ]
    },
    {
     "data": {
      "text/plain": [
       "8.333333333333334"
      ]
     },
     "execution_count": 215,
     "metadata": {},
     "output_type": "execute_result"
    }
   ],
   "source": [
    "avg=(dfs['from'].count())/dfs['date_only'].nunique()\n",
    "print(\"average Emails per day:\",avg)\n",
    "avg"
   ]
  },
  {
   "cell_type": "code",
   "execution_count": 221,
   "id": "360a65dc-e88a-45a4-9bd8-18ff98a52958",
   "metadata": {},
   "outputs": [
    {
     "name": "stdout",
     "output_type": "stream",
     "text": [
      "average Emails per day: 0.3472222222222222\n"
     ]
    },
    {
     "data": {
      "text/plain": [
       "0.3472222222222222"
      ]
     },
     "execution_count": 221,
     "metadata": {},
     "output_type": "execute_result"
    }
   ],
   "source": [
    "avg1=(dfs['from'].count())/(dfs['date_only'].nunique()*24)\n",
    "print(\"average Emails per day:\",avg1)\n",
    "avg1"
   ]
  },
  {
   "cell_type": "code",
   "execution_count": 235,
   "id": "98a513b5-ec83-4431-86da-9614e1afb61f",
   "metadata": {},
   "outputs": [
    {
     "data": {
      "text/plain": [
       "<Axes: xlabel='dayofweek'>"
      ]
     },
     "execution_count": 235,
     "metadata": {},
     "output_type": "execute_result"
    },
    {
     "data": {
      "image/png": "[encoded data removed]",
      "text/plain": [
       "<Figure size 640x480 with 1 Axes>"
      ]
     },
     "metadata": {},
     "output_type": "display_data"
    }
   ],
   "source": [
    "counts = dfs.dayofweek.value_counts(sort=False)\n",
    "counts.plot(kind='bar')"
   ]
  },
  {
   "cell_type": "code",
   "execution_count": null,
   "id": "cd660e3a-73b8-44fc-9dab-48f01e105b6b",
   "metadata": {},
   "outputs": [],
   "source": [
    "sent = dfs[dfs"
   ]
  },
  {
   "cell_type": "code",
   "execution_count": null,
   "id": "538cd34a-32dd-4fdd-81b5-614762e609e4",
   "metadata": {},
   "outputs": [],
   "source": []
  }
 ],
 "metadata": {
  "kernelspec": {
   "display_name": "Python [conda env:base] *",
   "language": "python",
   "name": "conda-base-py"
  },
  "language_info": {
   "codemirror_mode": {
    "name": "ipython",
    "version": 3
   },
   "file_extension": ".py",
   "mimetype": "text/x-python",
   "name": "python",
   "nbconvert_exporter": "python",
   "pygments_lexer": "ipython3",
   "version": "3.12.7"
  }
 },
 "nbformat": 4,
 "nbformat_minor": 5
}
